{
  "nbformat": 4,
  "nbformat_minor": 0,
  "metadata": {
    "colab": {
      "provenance": []
    },
    "kernelspec": {
      "name": "python3",
      "display_name": "Python 3"
    },
    "language_info": {
      "name": "python"
    }
  },
  "cells": [
    {
      "cell_type": "markdown",
      "source": [
        "**1.Hypothesis Statments**\n",
        "\n",
        "Null hypothesis : There is significant association between the type of smart home device purchased and the customer satisfaction level.\n",
        "\n",
        "Alternative hypothesis : There is no significant association between the type of smart home device purchased and the customer satisfaction level."
      ],
      "metadata": {
        "id": "FT1tv6SKV6s1"
      }
    },
    {
      "cell_type": "code",
      "source": [
        "import numpy as np\n",
        "from scipy.stats import chi2_contingency, chi2"
      ],
      "metadata": {
        "id": "LpdpP0C2OtN-"
      },
      "execution_count": 5,
      "outputs": []
    },
    {
      "cell_type": "code",
      "source": [
        "observed = np.array([\n",
        "    [50, 70],\n",
        "    [80, 100],\n",
        "    [60, 90],\n",
        "    [30, 50],\n",
        "    [20, 50]\n",
        "])"
      ],
      "metadata": {
        "id": "cumOZCaLQkla"
      },
      "execution_count": 6,
      "outputs": []
    },
    {
      "cell_type": "markdown",
      "source": [
        "**2.Computing the Chi-square statistics**"
      ],
      "metadata": {
        "id": "LT5xP94AWlhP"
      }
    },
    {
      "cell_type": "code",
      "source": [
        "chi2_stat, p_val, dof, expected = chi2_contingency(observed)\n",
        "print(chi2_stat)\n",
        "print(p_val)\n",
        "print(dof)\n",
        "print(expected)"
      ],
      "metadata": {
        "colab": {
          "base_uri": "https://localhost:8080/"
        },
        "id": "NFsdCe8pQmvY",
        "outputId": "165a01f8-fd9d-4297-8485-d52a6481e03d"
      },
      "execution_count": 10,
      "outputs": [
        {
          "output_type": "stream",
          "name": "stdout",
          "text": [
            "5.638227513227513\n",
            "0.22784371130697179\n",
            "4\n",
            "[[ 48.  72.]\n",
            " [ 72. 108.]\n",
            " [ 60.  90.]\n",
            " [ 32.  48.]\n",
            " [ 28.  42.]]\n"
          ]
        }
      ]
    },
    {
      "cell_type": "markdown",
      "source": [
        "**3.Determining the critical value**"
      ],
      "metadata": {
        "id": "ONa6Gy8JWur7"
      }
    },
    {
      "cell_type": "code",
      "source": [
        "alpha = 0.05\n",
        "critical_value = chi2.ppf(1 - alpha, dof)\n",
        "print(critical_value)"
      ],
      "metadata": {
        "colab": {
          "base_uri": "https://localhost:8080/"
        },
        "id": "i953bSOSQ6mH",
        "outputId": "5ba58e57-0ff8-48e6-ba47-c024a8a9a318"
      },
      "execution_count": 9,
      "outputs": [
        {
          "output_type": "stream",
          "name": "stdout",
          "text": [
            "9.487729036781154\n"
          ]
        }
      ]
    },
    {
      "cell_type": "markdown",
      "source": [
        "**4.Making the decision to decide whether to reject the null hypothesis**"
      ],
      "metadata": {
        "id": "wIEzI3ERW5B1"
      }
    },
    {
      "cell_type": "code",
      "source": [
        "if chi2_stat > critical_value:\n",
        "  print(\"Reject null hypothesis\")\n",
        "else:\n",
        "  print(\"Do not reject null hypothesis\")"
      ],
      "metadata": {
        "colab": {
          "base_uri": "https://localhost:8080/"
        },
        "id": "k0Qcg45NRTNA",
        "outputId": "997ab919-0cf3-4165-f6c4-c0f4db8c808a"
      },
      "execution_count": 11,
      "outputs": [
        {
          "output_type": "stream",
          "name": "stdout",
          "text": [
            "Do not reject null hypothesis\n"
          ]
        }
      ]
    },
    {
      "cell_type": "markdown",
      "source": [
        "**5.Conclusion**\n",
        "\n",
        "Since Chi-square statistics is less than the critical value, we don't reject the null hypothesis.\n",
        "\n",
        "We can conclude that there is no significant association between the type of smart house device purchased and the coustomer satisfaction."
      ],
      "metadata": {
        "id": "-ZXezohLZBd1"
      }
    }
  ]
}