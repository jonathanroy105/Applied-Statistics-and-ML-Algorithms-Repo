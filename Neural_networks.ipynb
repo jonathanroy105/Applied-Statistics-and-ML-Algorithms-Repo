{
  "nbformat": 4,
  "nbformat_minor": 0,
  "metadata": {
    "colab": {
      "provenance": []
    },
    "kernelspec": {
      "name": "python3",
      "display_name": "Python 3"
    },
    "language_info": {
      "name": "python"
    }
  },
  "cells": [
    {
      "cell_type": "code",
      "execution_count": 1,
      "metadata": {
        "id": "cRO9QPSQ1mm_"
      },
      "outputs": [],
      "source": [
        "import pandas as pd\n",
        "import numpy as np"
      ]
    },
    {
      "cell_type": "markdown",
      "source": [
        "#Loading Dataset"
      ],
      "metadata": {
        "id": "A5KQGFKCBPh_"
      }
    },
    {
      "cell_type": "code",
      "source": [
        "df = pd.read_csv(\"Alphabets_data.csv\")\n",
        "df.head()"
      ],
      "metadata": {
        "colab": {
          "base_uri": "https://localhost:8080/",
          "height": 206
        },
        "id": "aHV-iy5r10aT",
        "outputId": "5f2c365c-46ee-4f54-9fe2-c81140273110"
      },
      "execution_count": 2,
      "outputs": [
        {
          "output_type": "execute_result",
          "data": {
            "text/plain": [
              "  letter  xbox  ybox  width  height  onpix  xbar  ybar  x2bar  y2bar  xybar  \\\n",
              "0      T     2     8      3       5      1     8    13      0      6      6   \n",
              "1      I     5    12      3       7      2    10     5      5      4     13   \n",
              "2      D     4    11      6       8      6    10     6      2      6     10   \n",
              "3      N     7    11      6       6      3     5     9      4      6      4   \n",
              "4      G     2     1      3       1      1     8     6      6      6      6   \n",
              "\n",
              "   x2ybar  xy2bar  xedge  xedgey  yedge  yedgex  \n",
              "0      10       8      0       8      0       8  \n",
              "1       3       9      2       8      4      10  \n",
              "2       3       7      3       7      3       9  \n",
              "3       4      10      6      10      2       8  \n",
              "4       5       9      1       7      5      10  "
            ],
            "text/html": [
              "\n",
              "  <div id=\"df-7a644016-19b7-47f3-b141-ec82ff4e38df\" class=\"colab-df-container\">\n",
              "    <div>\n",
              "<style scoped>\n",
              "    .dataframe tbody tr th:only-of-type {\n",
              "        vertical-align: middle;\n",
              "    }\n",
              "\n",
              "    .dataframe tbody tr th {\n",
              "        vertical-align: top;\n",
              "    }\n",
              "\n",
              "    .dataframe thead th {\n",
              "        text-align: right;\n",
              "    }\n",
              "</style>\n",
              "<table border=\"1\" class=\"dataframe\">\n",
              "  <thead>\n",
              "    <tr style=\"text-align: right;\">\n",
              "      <th></th>\n",
              "      <th>letter</th>\n",
              "      <th>xbox</th>\n",
              "      <th>ybox</th>\n",
              "      <th>width</th>\n",
              "      <th>height</th>\n",
              "      <th>onpix</th>\n",
              "      <th>xbar</th>\n",
              "      <th>ybar</th>\n",
              "      <th>x2bar</th>\n",
              "      <th>y2bar</th>\n",
              "      <th>xybar</th>\n",
              "      <th>x2ybar</th>\n",
              "      <th>xy2bar</th>\n",
              "      <th>xedge</th>\n",
              "      <th>xedgey</th>\n",
              "      <th>yedge</th>\n",
              "      <th>yedgex</th>\n",
              "    </tr>\n",
              "  </thead>\n",
              "  <tbody>\n",
              "    <tr>\n",
              "      <th>0</th>\n",
              "      <td>T</td>\n",
              "      <td>2</td>\n",
              "      <td>8</td>\n",
              "      <td>3</td>\n",
              "      <td>5</td>\n",
              "      <td>1</td>\n",
              "      <td>8</td>\n",
              "      <td>13</td>\n",
              "      <td>0</td>\n",
              "      <td>6</td>\n",
              "      <td>6</td>\n",
              "      <td>10</td>\n",
              "      <td>8</td>\n",
              "      <td>0</td>\n",
              "      <td>8</td>\n",
              "      <td>0</td>\n",
              "      <td>8</td>\n",
              "    </tr>\n",
              "    <tr>\n",
              "      <th>1</th>\n",
              "      <td>I</td>\n",
              "      <td>5</td>\n",
              "      <td>12</td>\n",
              "      <td>3</td>\n",
              "      <td>7</td>\n",
              "      <td>2</td>\n",
              "      <td>10</td>\n",
              "      <td>5</td>\n",
              "      <td>5</td>\n",
              "      <td>4</td>\n",
              "      <td>13</td>\n",
              "      <td>3</td>\n",
              "      <td>9</td>\n",
              "      <td>2</td>\n",
              "      <td>8</td>\n",
              "      <td>4</td>\n",
              "      <td>10</td>\n",
              "    </tr>\n",
              "    <tr>\n",
              "      <th>2</th>\n",
              "      <td>D</td>\n",
              "      <td>4</td>\n",
              "      <td>11</td>\n",
              "      <td>6</td>\n",
              "      <td>8</td>\n",
              "      <td>6</td>\n",
              "      <td>10</td>\n",
              "      <td>6</td>\n",
              "      <td>2</td>\n",
              "      <td>6</td>\n",
              "      <td>10</td>\n",
              "      <td>3</td>\n",
              "      <td>7</td>\n",
              "      <td>3</td>\n",
              "      <td>7</td>\n",
              "      <td>3</td>\n",
              "      <td>9</td>\n",
              "    </tr>\n",
              "    <tr>\n",
              "      <th>3</th>\n",
              "      <td>N</td>\n",
              "      <td>7</td>\n",
              "      <td>11</td>\n",
              "      <td>6</td>\n",
              "      <td>6</td>\n",
              "      <td>3</td>\n",
              "      <td>5</td>\n",
              "      <td>9</td>\n",
              "      <td>4</td>\n",
              "      <td>6</td>\n",
              "      <td>4</td>\n",
              "      <td>4</td>\n",
              "      <td>10</td>\n",
              "      <td>6</td>\n",
              "      <td>10</td>\n",
              "      <td>2</td>\n",
              "      <td>8</td>\n",
              "    </tr>\n",
              "    <tr>\n",
              "      <th>4</th>\n",
              "      <td>G</td>\n",
              "      <td>2</td>\n",
              "      <td>1</td>\n",
              "      <td>3</td>\n",
              "      <td>1</td>\n",
              "      <td>1</td>\n",
              "      <td>8</td>\n",
              "      <td>6</td>\n",
              "      <td>6</td>\n",
              "      <td>6</td>\n",
              "      <td>6</td>\n",
              "      <td>5</td>\n",
              "      <td>9</td>\n",
              "      <td>1</td>\n",
              "      <td>7</td>\n",
              "      <td>5</td>\n",
              "      <td>10</td>\n",
              "    </tr>\n",
              "  </tbody>\n",
              "</table>\n",
              "</div>\n",
              "    <div class=\"colab-df-buttons\">\n",
              "\n",
              "  <div class=\"colab-df-container\">\n",
              "    <button class=\"colab-df-convert\" onclick=\"convertToInteractive('df-7a644016-19b7-47f3-b141-ec82ff4e38df')\"\n",
              "            title=\"Convert this dataframe to an interactive table.\"\n",
              "            style=\"display:none;\">\n",
              "\n",
              "  <svg xmlns=\"http://www.w3.org/2000/svg\" height=\"24px\" viewBox=\"0 -960 960 960\">\n",
              "    <path d=\"M120-120v-720h720v720H120Zm60-500h600v-160H180v160Zm220 220h160v-160H400v160Zm0 220h160v-160H400v160ZM180-400h160v-160H180v160Zm440 0h160v-160H620v160ZM180-180h160v-160H180v160Zm440 0h160v-160H620v160Z\"/>\n",
              "  </svg>\n",
              "    </button>\n",
              "\n",
              "  <style>\n",
              "    .colab-df-container {\n",
              "      display:flex;\n",
              "      gap: 12px;\n",
              "    }\n",
              "\n",
              "    .colab-df-convert {\n",
              "      background-color: #E8F0FE;\n",
              "      border: none;\n",
              "      border-radius: 50%;\n",
              "      cursor: pointer;\n",
              "      display: none;\n",
              "      fill: #1967D2;\n",
              "      height: 32px;\n",
              "      padding: 0 0 0 0;\n",
              "      width: 32px;\n",
              "    }\n",
              "\n",
              "    .colab-df-convert:hover {\n",
              "      background-color: #E2EBFA;\n",
              "      box-shadow: 0px 1px 2px rgba(60, 64, 67, 0.3), 0px 1px 3px 1px rgba(60, 64, 67, 0.15);\n",
              "      fill: #174EA6;\n",
              "    }\n",
              "\n",
              "    .colab-df-buttons div {\n",
              "      margin-bottom: 4px;\n",
              "    }\n",
              "\n",
              "    [theme=dark] .colab-df-convert {\n",
              "      background-color: #3B4455;\n",
              "      fill: #D2E3FC;\n",
              "    }\n",
              "\n",
              "    [theme=dark] .colab-df-convert:hover {\n",
              "      background-color: #434B5C;\n",
              "      box-shadow: 0px 1px 3px 1px rgba(0, 0, 0, 0.15);\n",
              "      filter: drop-shadow(0px 1px 2px rgba(0, 0, 0, 0.3));\n",
              "      fill: #FFFFFF;\n",
              "    }\n",
              "  </style>\n",
              "\n",
              "    <script>\n",
              "      const buttonEl =\n",
              "        document.querySelector('#df-7a644016-19b7-47f3-b141-ec82ff4e38df button.colab-df-convert');\n",
              "      buttonEl.style.display =\n",
              "        google.colab.kernel.accessAllowed ? 'block' : 'none';\n",
              "\n",
              "      async function convertToInteractive(key) {\n",
              "        const element = document.querySelector('#df-7a644016-19b7-47f3-b141-ec82ff4e38df');\n",
              "        const dataTable =\n",
              "          await google.colab.kernel.invokeFunction('convertToInteractive',\n",
              "                                                    [key], {});\n",
              "        if (!dataTable) return;\n",
              "\n",
              "        const docLinkHtml = 'Like what you see? Visit the ' +\n",
              "          '<a target=\"_blank\" href=https://colab.research.google.com/notebooks/data_table.ipynb>data table notebook</a>'\n",
              "          + ' to learn more about interactive tables.';\n",
              "        element.innerHTML = '';\n",
              "        dataTable['output_type'] = 'display_data';\n",
              "        await google.colab.output.renderOutput(dataTable, element);\n",
              "        const docLink = document.createElement('div');\n",
              "        docLink.innerHTML = docLinkHtml;\n",
              "        element.appendChild(docLink);\n",
              "      }\n",
              "    </script>\n",
              "  </div>\n",
              "\n",
              "\n",
              "<div id=\"df-28eb3c8c-f683-4c08-a6aa-84fb22adb4af\">\n",
              "  <button class=\"colab-df-quickchart\" onclick=\"quickchart('df-28eb3c8c-f683-4c08-a6aa-84fb22adb4af')\"\n",
              "            title=\"Suggest charts\"\n",
              "            style=\"display:none;\">\n",
              "\n",
              "<svg xmlns=\"http://www.w3.org/2000/svg\" height=\"24px\"viewBox=\"0 0 24 24\"\n",
              "     width=\"24px\">\n",
              "    <g>\n",
              "        <path d=\"M19 3H5c-1.1 0-2 .9-2 2v14c0 1.1.9 2 2 2h14c1.1 0 2-.9 2-2V5c0-1.1-.9-2-2-2zM9 17H7v-7h2v7zm4 0h-2V7h2v10zm4 0h-2v-4h2v4z\"/>\n",
              "    </g>\n",
              "</svg>\n",
              "  </button>\n",
              "\n",
              "<style>\n",
              "  .colab-df-quickchart {\n",
              "      --bg-color: #E8F0FE;\n",
              "      --fill-color: #1967D2;\n",
              "      --hover-bg-color: #E2EBFA;\n",
              "      --hover-fill-color: #174EA6;\n",
              "      --disabled-fill-color: #AAA;\n",
              "      --disabled-bg-color: #DDD;\n",
              "  }\n",
              "\n",
              "  [theme=dark] .colab-df-quickchart {\n",
              "      --bg-color: #3B4455;\n",
              "      --fill-color: #D2E3FC;\n",
              "      --hover-bg-color: #434B5C;\n",
              "      --hover-fill-color: #FFFFFF;\n",
              "      --disabled-bg-color: #3B4455;\n",
              "      --disabled-fill-color: #666;\n",
              "  }\n",
              "\n",
              "  .colab-df-quickchart {\n",
              "    background-color: var(--bg-color);\n",
              "    border: none;\n",
              "    border-radius: 50%;\n",
              "    cursor: pointer;\n",
              "    display: none;\n",
              "    fill: var(--fill-color);\n",
              "    height: 32px;\n",
              "    padding: 0;\n",
              "    width: 32px;\n",
              "  }\n",
              "\n",
              "  .colab-df-quickchart:hover {\n",
              "    background-color: var(--hover-bg-color);\n",
              "    box-shadow: 0 1px 2px rgba(60, 64, 67, 0.3), 0 1px 3px 1px rgba(60, 64, 67, 0.15);\n",
              "    fill: var(--button-hover-fill-color);\n",
              "  }\n",
              "\n",
              "  .colab-df-quickchart-complete:disabled,\n",
              "  .colab-df-quickchart-complete:disabled:hover {\n",
              "    background-color: var(--disabled-bg-color);\n",
              "    fill: var(--disabled-fill-color);\n",
              "    box-shadow: none;\n",
              "  }\n",
              "\n",
              "  .colab-df-spinner {\n",
              "    border: 2px solid var(--fill-color);\n",
              "    border-color: transparent;\n",
              "    border-bottom-color: var(--fill-color);\n",
              "    animation:\n",
              "      spin 1s steps(1) infinite;\n",
              "  }\n",
              "\n",
              "  @keyframes spin {\n",
              "    0% {\n",
              "      border-color: transparent;\n",
              "      border-bottom-color: var(--fill-color);\n",
              "      border-left-color: var(--fill-color);\n",
              "    }\n",
              "    20% {\n",
              "      border-color: transparent;\n",
              "      border-left-color: var(--fill-color);\n",
              "      border-top-color: var(--fill-color);\n",
              "    }\n",
              "    30% {\n",
              "      border-color: transparent;\n",
              "      border-left-color: var(--fill-color);\n",
              "      border-top-color: var(--fill-color);\n",
              "      border-right-color: var(--fill-color);\n",
              "    }\n",
              "    40% {\n",
              "      border-color: transparent;\n",
              "      border-right-color: var(--fill-color);\n",
              "      border-top-color: var(--fill-color);\n",
              "    }\n",
              "    60% {\n",
              "      border-color: transparent;\n",
              "      border-right-color: var(--fill-color);\n",
              "    }\n",
              "    80% {\n",
              "      border-color: transparent;\n",
              "      border-right-color: var(--fill-color);\n",
              "      border-bottom-color: var(--fill-color);\n",
              "    }\n",
              "    90% {\n",
              "      border-color: transparent;\n",
              "      border-bottom-color: var(--fill-color);\n",
              "    }\n",
              "  }\n",
              "</style>\n",
              "\n",
              "  <script>\n",
              "    async function quickchart(key) {\n",
              "      const quickchartButtonEl =\n",
              "        document.querySelector('#' + key + ' button');\n",
              "      quickchartButtonEl.disabled = true;  // To prevent multiple clicks.\n",
              "      quickchartButtonEl.classList.add('colab-df-spinner');\n",
              "      try {\n",
              "        const charts = await google.colab.kernel.invokeFunction(\n",
              "            'suggestCharts', [key], {});\n",
              "      } catch (error) {\n",
              "        console.error('Error during call to suggestCharts:', error);\n",
              "      }\n",
              "      quickchartButtonEl.classList.remove('colab-df-spinner');\n",
              "      quickchartButtonEl.classList.add('colab-df-quickchart-complete');\n",
              "    }\n",
              "    (() => {\n",
              "      let quickchartButtonEl =\n",
              "        document.querySelector('#df-28eb3c8c-f683-4c08-a6aa-84fb22adb4af button');\n",
              "      quickchartButtonEl.style.display =\n",
              "        google.colab.kernel.accessAllowed ? 'block' : 'none';\n",
              "    })();\n",
              "  </script>\n",
              "</div>\n",
              "\n",
              "    </div>\n",
              "  </div>\n"
            ],
            "application/vnd.google.colaboratory.intrinsic+json": {
              "type": "dataframe",
              "variable_name": "df",
              "summary": "{\n  \"name\": \"df\",\n  \"rows\": 20000,\n  \"fields\": [\n    {\n      \"column\": \"letter\",\n      \"properties\": {\n        \"dtype\": \"category\",\n        \"num_unique_values\": 26,\n        \"samples\": [\n          \"J\",\n          \"W\",\n          \"T\"\n        ],\n        \"semantic_type\": \"\",\n        \"description\": \"\"\n      }\n    },\n    {\n      \"column\": \"xbox\",\n      \"properties\": {\n        \"dtype\": \"number\",\n        \"std\": 1,\n        \"min\": 0,\n        \"max\": 15,\n        \"num_unique_values\": 16,\n        \"samples\": [\n          2,\n          5,\n          11\n        ],\n        \"semantic_type\": \"\",\n        \"description\": \"\"\n      }\n    },\n    {\n      \"column\": \"ybox\",\n      \"properties\": {\n        \"dtype\": \"number\",\n        \"std\": 3,\n        \"min\": 0,\n        \"max\": 15,\n        \"num_unique_values\": 16,\n        \"samples\": [\n          8,\n          12,\n          15\n        ],\n        \"semantic_type\": \"\",\n        \"description\": \"\"\n      }\n    },\n    {\n      \"column\": \"width\",\n      \"properties\": {\n        \"dtype\": \"number\",\n        \"std\": 2,\n        \"min\": 0,\n        \"max\": 15,\n        \"num_unique_values\": 16,\n        \"samples\": [\n          3,\n          6,\n          8\n        ],\n        \"semantic_type\": \"\",\n        \"description\": \"\"\n      }\n    },\n    {\n      \"column\": \"height\",\n      \"properties\": {\n        \"dtype\": \"number\",\n        \"std\": 2,\n        \"min\": 0,\n        \"max\": 15,\n        \"num_unique_values\": 16,\n        \"samples\": [\n          5,\n          7,\n          4\n        ],\n        \"semantic_type\": \"\",\n        \"description\": \"\"\n      }\n    },\n    {\n      \"column\": \"onpix\",\n      \"properties\": {\n        \"dtype\": \"number\",\n        \"std\": 2,\n        \"min\": 0,\n        \"max\": 15,\n        \"num_unique_values\": 16,\n        \"samples\": [\n          1,\n          2,\n          7\n        ],\n        \"semantic_type\": \"\",\n        \"description\": \"\"\n      }\n    },\n    {\n      \"column\": \"xbar\",\n      \"properties\": {\n        \"dtype\": \"number\",\n        \"std\": 2,\n        \"min\": 0,\n        \"max\": 15,\n        \"num_unique_values\": 16,\n        \"samples\": [\n          8,\n          10,\n          7\n        ],\n        \"semantic_type\": \"\",\n        \"description\": \"\"\n      }\n    },\n    {\n      \"column\": \"ybar\",\n      \"properties\": {\n        \"dtype\": \"number\",\n        \"std\": 2,\n        \"min\": 0,\n        \"max\": 15,\n        \"num_unique_values\": 16,\n        \"samples\": [\n          13,\n          5,\n          7\n        ],\n        \"semantic_type\": \"\",\n        \"description\": \"\"\n      }\n    },\n    {\n      \"column\": \"x2bar\",\n      \"properties\": {\n        \"dtype\": \"number\",\n        \"std\": 2,\n        \"min\": 0,\n        \"max\": 15,\n        \"num_unique_values\": 16,\n        \"samples\": [\n          0,\n          5,\n          3\n        ],\n        \"semantic_type\": \"\",\n        \"description\": \"\"\n      }\n    },\n    {\n      \"column\": \"y2bar\",\n      \"properties\": {\n        \"dtype\": \"number\",\n        \"std\": 2,\n        \"min\": 0,\n        \"max\": 15,\n        \"num_unique_values\": 16,\n        \"samples\": [\n          6,\n          4,\n          3\n        ],\n        \"semantic_type\": \"\",\n        \"description\": \"\"\n      }\n    },\n    {\n      \"column\": \"xybar\",\n      \"properties\": {\n        \"dtype\": \"number\",\n        \"std\": 2,\n        \"min\": 0,\n        \"max\": 15,\n        \"num_unique_values\": 16,\n        \"samples\": [\n          6,\n          13,\n          7\n        ],\n        \"semantic_type\": \"\",\n        \"description\": \"\"\n      }\n    },\n    {\n      \"column\": \"x2ybar\",\n      \"properties\": {\n        \"dtype\": \"number\",\n        \"std\": 2,\n        \"min\": 0,\n        \"max\": 15,\n        \"num_unique_values\": 16,\n        \"samples\": [\n          10,\n          3,\n          2\n        ],\n        \"semantic_type\": \"\",\n        \"description\": \"\"\n      }\n    },\n    {\n      \"column\": \"xy2bar\",\n      \"properties\": {\n        \"dtype\": \"number\",\n        \"std\": 2,\n        \"min\": 0,\n        \"max\": 15,\n        \"num_unique_values\": 16,\n        \"samples\": [\n          8,\n          9,\n          11\n        ],\n        \"semantic_type\": \"\",\n        \"description\": \"\"\n      }\n    },\n    {\n      \"column\": \"xedge\",\n      \"properties\": {\n        \"dtype\": \"number\",\n        \"std\": 2,\n        \"min\": 0,\n        \"max\": 15,\n        \"num_unique_values\": 16,\n        \"samples\": [\n          0,\n          2,\n          8\n        ],\n        \"semantic_type\": \"\",\n        \"description\": \"\"\n      }\n    },\n    {\n      \"column\": \"xedgey\",\n      \"properties\": {\n        \"dtype\": \"number\",\n        \"std\": 1,\n        \"min\": 0,\n        \"max\": 15,\n        \"num_unique_values\": 16,\n        \"samples\": [\n          8,\n          7,\n          9\n        ],\n        \"semantic_type\": \"\",\n        \"description\": \"\"\n      }\n    },\n    {\n      \"column\": \"yedge\",\n      \"properties\": {\n        \"dtype\": \"number\",\n        \"std\": 2,\n        \"min\": 0,\n        \"max\": 15,\n        \"num_unique_values\": 16,\n        \"samples\": [\n          0,\n          4,\n          9\n        ],\n        \"semantic_type\": \"\",\n        \"description\": \"\"\n      }\n    },\n    {\n      \"column\": \"yedgex\",\n      \"properties\": {\n        \"dtype\": \"number\",\n        \"std\": 1,\n        \"min\": 0,\n        \"max\": 15,\n        \"num_unique_values\": 16,\n        \"samples\": [\n          8,\n          10,\n          11\n        ],\n        \"semantic_type\": \"\",\n        \"description\": \"\"\n      }\n    }\n  ]\n}"
            }
          },
          "metadata": {},
          "execution_count": 2
        }
      ]
    },
    {
      "cell_type": "markdown",
      "source": [
        "#Data exploring and preprocessing"
      ],
      "metadata": {
        "id": "64nKWSrkBX_k"
      }
    },
    {
      "cell_type": "code",
      "source": [
        "df.shape"
      ],
      "metadata": {
        "colab": {
          "base_uri": "https://localhost:8080/"
        },
        "id": "8CDPVfrE18WC",
        "outputId": "992156b0-73d0-444d-b804-0e6379d1a7c3"
      },
      "execution_count": 3,
      "outputs": [
        {
          "output_type": "execute_result",
          "data": {
            "text/plain": [
              "(20000, 17)"
            ]
          },
          "metadata": {},
          "execution_count": 3
        }
      ]
    },
    {
      "cell_type": "code",
      "source": [
        "df.info()"
      ],
      "metadata": {
        "colab": {
          "base_uri": "https://localhost:8080/"
        },
        "id": "_n4Kvtx71-wx",
        "outputId": "78ba4ab0-6ac6-406f-889d-11640a0db1e0"
      },
      "execution_count": 4,
      "outputs": [
        {
          "output_type": "stream",
          "name": "stdout",
          "text": [
            "<class 'pandas.core.frame.DataFrame'>\n",
            "RangeIndex: 20000 entries, 0 to 19999\n",
            "Data columns (total 17 columns):\n",
            " #   Column  Non-Null Count  Dtype \n",
            "---  ------  --------------  ----- \n",
            " 0   letter  20000 non-null  object\n",
            " 1   xbox    20000 non-null  int64 \n",
            " 2   ybox    20000 non-null  int64 \n",
            " 3   width   20000 non-null  int64 \n",
            " 4   height  20000 non-null  int64 \n",
            " 5   onpix   20000 non-null  int64 \n",
            " 6   xbar    20000 non-null  int64 \n",
            " 7   ybar    20000 non-null  int64 \n",
            " 8   x2bar   20000 non-null  int64 \n",
            " 9   y2bar   20000 non-null  int64 \n",
            " 10  xybar   20000 non-null  int64 \n",
            " 11  x2ybar  20000 non-null  int64 \n",
            " 12  xy2bar  20000 non-null  int64 \n",
            " 13  xedge   20000 non-null  int64 \n",
            " 14  xedgey  20000 non-null  int64 \n",
            " 15  yedge   20000 non-null  int64 \n",
            " 16  yedgex  20000 non-null  int64 \n",
            "dtypes: int64(16), object(1)\n",
            "memory usage: 2.6+ MB\n"
          ]
        }
      ]
    },
    {
      "cell_type": "code",
      "source": [
        "missing_values = df.isnull().sum()"
      ],
      "metadata": {
        "id": "7QwYFvF63-mG"
      },
      "execution_count": 5,
      "outputs": []
    },
    {
      "cell_type": "code",
      "source": [
        "from sklearn.preprocessing import LabelEncoder, StandardScaler"
      ],
      "metadata": {
        "id": "Q-U0UPU-3Mac"
      },
      "execution_count": 6,
      "outputs": []
    },
    {
      "cell_type": "code",
      "source": [
        "x = df.drop('letter', axis=1)"
      ],
      "metadata": {
        "id": "gJ0CJNMl3op4"
      },
      "execution_count": 7,
      "outputs": []
    },
    {
      "cell_type": "code",
      "source": [
        "scaler = StandardScaler()\n",
        "x_scaled = scaler.fit_transform(x)"
      ],
      "metadata": {
        "id": "IHOxXakS5Anq"
      },
      "execution_count": 8,
      "outputs": []
    },
    {
      "cell_type": "code",
      "source": [
        "x_scaled"
      ],
      "metadata": {
        "colab": {
          "base_uri": "https://localhost:8080/"
        },
        "id": "tBnF1P0C5KWc",
        "outputId": "a706f887-a30a-44b1-bb5a-5d6d1def320c"
      },
      "execution_count": 9,
      "outputs": [
        {
          "output_type": "execute_result",
          "data": {
            "text/plain": [
              "array([[-1.0576983 ,  0.29187713, -1.05327668, ..., -0.21908163,\n",
              "        -1.4381527 ,  0.12291107],\n",
              "       [ 0.51038497,  1.5023577 , -1.05327668, ..., -0.21908163,\n",
              "         0.12008142,  1.35944092],\n",
              "       [-0.01230945,  1.19973756,  0.43590966, ..., -0.8656262 ,\n",
              "        -0.26947711,  0.74117599],\n",
              "       ...,\n",
              "       [ 1.03307939,  0.59449727,  0.43590966, ...,  2.36709667,\n",
              "        -0.65903564, -2.35014863],\n",
              "       [-1.0576983 , -1.22122359, -0.55688123, ...,  0.42746295,\n",
              "         0.50963994,  0.12291107],\n",
              "       [-0.01230945,  0.59449727,  0.43590966, ..., -0.8656262 ,\n",
              "        -0.65903564,  0.12291107]])"
            ]
          },
          "metadata": {},
          "execution_count": 9
        }
      ]
    },
    {
      "cell_type": "code",
      "source": [
        "label_encoder = LabelEncoder()\n",
        "y = label_encoder.fit_transform(df['letter'])"
      ],
      "metadata": {
        "id": "NcUjhwue5Nep"
      },
      "execution_count": 10,
      "outputs": []
    },
    {
      "cell_type": "code",
      "source": [
        "missing_values_summary = missing_values[missing_values > 0]\n",
        "x_scaled[:5], y[:5], missing_values_summary"
      ],
      "metadata": {
        "colab": {
          "base_uri": "https://localhost:8080/"
        },
        "id": "mGei05mM6iEt",
        "outputId": "ee2b632f-5684-4df9-c760-62472eaf660b"
      },
      "execution_count": 11,
      "outputs": [
        {
          "output_type": "execute_result",
          "data": {
            "text/plain": [
              "(array([[-1.0576983 ,  0.29187713, -1.05327668, -0.16470367, -1.14401317,\n",
              "          0.54413045,  2.36509711, -1.71435955,  0.34499439, -0.91707055,\n",
              "          1.34777427,  0.03412531, -1.30594761, -0.21908163, -1.4381527 ,\n",
              "          0.12291107],\n",
              "        [ 0.51038497,  1.5023577 , -1.05327668,  0.71973007, -0.6874762 ,\n",
              "          1.53130471, -1.07532563,  0.13756063, -0.4950723 ,  1.89596765,\n",
              "         -1.31280664,  0.51476353, -0.4484921 , -0.21908163,  0.12008142,\n",
              "          1.35944092],\n",
              "        [-0.01230945,  1.19973756,  0.43590966,  1.16194694,  1.13867169,\n",
              "          1.53130471, -0.64527279, -0.97359148,  0.34499439,  0.69037985,\n",
              "         -1.31280664, -0.4465129 , -0.01976435, -0.8656262 , -0.26947711,\n",
              "          0.74117599],\n",
              "        [ 1.55577381,  1.19973756,  0.43590966,  0.2775132 , -0.23093923,\n",
              "         -0.93663094,  0.64488574, -0.23282341,  0.34499439, -1.72079575,\n",
              "         -0.93272365,  0.99540174,  1.26641891,  1.07400752, -0.65903564,\n",
              "          0.12291107],\n",
              "        [-1.0576983 , -1.82646388, -1.05327668, -1.93357116, -1.14401317,\n",
              "          0.54413045, -0.64527279,  0.50794467,  0.34499439, -0.91707055,\n",
              "         -0.55264066,  0.51476353, -0.87721986, -0.8656262 ,  0.50963994,\n",
              "          1.35944092]]),\n",
              " array([19,  8,  3, 13,  6]),\n",
              " Series([], dtype: int64))"
            ]
          },
          "metadata": {},
          "execution_count": 11
        }
      ]
    },
    {
      "cell_type": "code",
      "source": [
        "from sklearn.model_selection import train_test_split\n",
        "x_train, x_test, y_train, y_test = train_test_split(x_scaled, y, test_size=0.2, random_state=42)"
      ],
      "metadata": {
        "id": "kIF-OInM627c"
      },
      "execution_count": 12,
      "outputs": []
    },
    {
      "cell_type": "markdown",
      "source": [
        "#Model building"
      ],
      "metadata": {
        "id": "_A_ju5SkBhNw"
      }
    },
    {
      "cell_type": "code",
      "source": [
        "from tensorflow import keras\n",
        "from tensorflow.keras import layers"
      ],
      "metadata": {
        "id": "p-8jw97V7OiH"
      },
      "execution_count": 13,
      "outputs": []
    },
    {
      "cell_type": "code",
      "source": [
        "model = keras.Sequential([\n",
        "    layers.Dense(64, activation='relu', input_shape=(x_train.shape[1],)),\n",
        "    layers.Dense(26, activation='softmax')\n",
        "])"
      ],
      "metadata": {
        "colab": {
          "base_uri": "https://localhost:8080/"
        },
        "id": "ceQ9en4C7dH3",
        "outputId": "1c2f56ab-6d88-4aae-bdd2-3b4edc965d5a"
      },
      "execution_count": 14,
      "outputs": [
        {
          "output_type": "stream",
          "name": "stderr",
          "text": [
            "/usr/local/lib/python3.10/dist-packages/keras/src/layers/core/dense.py:87: UserWarning: Do not pass an `input_shape`/`input_dim` argument to a layer. When using Sequential models, prefer using an `Input(shape)` object as the first layer in the model instead.\n",
            "  super().__init__(activity_regularizer=activity_regularizer, **kwargs)\n"
          ]
        }
      ]
    },
    {
      "cell_type": "code",
      "source": [
        "model.compile(optimizer='adam', loss='sparse_categorical_crossentropy', metrics=['accuracy'])"
      ],
      "metadata": {
        "id": "9Ku0ntnF7vMJ"
      },
      "execution_count": 15,
      "outputs": []
    },
    {
      "cell_type": "code",
      "source": [
        "history = model.fit(x_train, y_train, epochs=50, batch_size=32, validation_split=0.2, verbose=2)"
      ],
      "metadata": {
        "colab": {
          "base_uri": "https://localhost:8080/"
        },
        "id": "el8t0i-r74w8",
        "outputId": "6bbc170b-4688-4cae-96c6-e3e945c90137"
      },
      "execution_count": 16,
      "outputs": [
        {
          "output_type": "stream",
          "name": "stdout",
          "text": [
            "Epoch 1/50\n",
            "400/400 - 2s - 6ms/step - accuracy: 0.4523 - loss: 2.1030 - val_accuracy: 0.6544 - val_loss: 1.3794\n",
            "Epoch 2/50\n",
            "400/400 - 1s - 2ms/step - accuracy: 0.7063 - loss: 1.1265 - val_accuracy: 0.7431 - val_loss: 1.0005\n",
            "Epoch 3/50\n",
            "400/400 - 1s - 2ms/step - accuracy: 0.7656 - loss: 0.8840 - val_accuracy: 0.7694 - val_loss: 0.8526\n",
            "Epoch 4/50\n",
            "400/400 - 1s - 2ms/step - accuracy: 0.7948 - loss: 0.7602 - val_accuracy: 0.7925 - val_loss: 0.7540\n",
            "Epoch 5/50\n",
            "400/400 - 1s - 2ms/step - accuracy: 0.8135 - loss: 0.6764 - val_accuracy: 0.8100 - val_loss: 0.6805\n",
            "Epoch 6/50\n",
            "400/400 - 0s - 1ms/step - accuracy: 0.8314 - loss: 0.6122 - val_accuracy: 0.8256 - val_loss: 0.6250\n",
            "Epoch 7/50\n",
            "400/400 - 1s - 2ms/step - accuracy: 0.8429 - loss: 0.5618 - val_accuracy: 0.8363 - val_loss: 0.5756\n",
            "Epoch 8/50\n",
            "400/400 - 1s - 1ms/step - accuracy: 0.8552 - loss: 0.5191 - val_accuracy: 0.8447 - val_loss: 0.5383\n",
            "Epoch 9/50\n",
            "400/400 - 1s - 2ms/step - accuracy: 0.8636 - loss: 0.4840 - val_accuracy: 0.8528 - val_loss: 0.5081\n",
            "Epoch 10/50\n",
            "400/400 - 1s - 1ms/step - accuracy: 0.8724 - loss: 0.4531 - val_accuracy: 0.8631 - val_loss: 0.4768\n",
            "Epoch 11/50\n",
            "400/400 - 1s - 2ms/step - accuracy: 0.8797 - loss: 0.4271 - val_accuracy: 0.8687 - val_loss: 0.4548\n",
            "Epoch 12/50\n",
            "400/400 - 1s - 2ms/step - accuracy: 0.8877 - loss: 0.4037 - val_accuracy: 0.8769 - val_loss: 0.4329\n",
            "Epoch 13/50\n",
            "400/400 - 1s - 2ms/step - accuracy: 0.8913 - loss: 0.3839 - val_accuracy: 0.8809 - val_loss: 0.4126\n",
            "Epoch 14/50\n",
            "400/400 - 1s - 3ms/step - accuracy: 0.8970 - loss: 0.3648 - val_accuracy: 0.8866 - val_loss: 0.3986\n",
            "Epoch 15/50\n",
            "400/400 - 1s - 1ms/step - accuracy: 0.8994 - loss: 0.3483 - val_accuracy: 0.8934 - val_loss: 0.3834\n",
            "Epoch 16/50\n",
            "400/400 - 1s - 2ms/step - accuracy: 0.9050 - loss: 0.3342 - val_accuracy: 0.8988 - val_loss: 0.3715\n",
            "Epoch 17/50\n",
            "400/400 - 1s - 1ms/step - accuracy: 0.9098 - loss: 0.3197 - val_accuracy: 0.8994 - val_loss: 0.3589\n",
            "Epoch 18/50\n",
            "400/400 - 0s - 1ms/step - accuracy: 0.9109 - loss: 0.3084 - val_accuracy: 0.9009 - val_loss: 0.3503\n",
            "Epoch 19/50\n",
            "400/400 - 1s - 2ms/step - accuracy: 0.9137 - loss: 0.2980 - val_accuracy: 0.9009 - val_loss: 0.3418\n",
            "Epoch 20/50\n",
            "400/400 - 1s - 2ms/step - accuracy: 0.9155 - loss: 0.2873 - val_accuracy: 0.9084 - val_loss: 0.3304\n",
            "Epoch 21/50\n",
            "400/400 - 1s - 1ms/step - accuracy: 0.9202 - loss: 0.2772 - val_accuracy: 0.9059 - val_loss: 0.3269\n",
            "Epoch 22/50\n",
            "400/400 - 1s - 1ms/step - accuracy: 0.9222 - loss: 0.2690 - val_accuracy: 0.9134 - val_loss: 0.3170\n",
            "Epoch 23/50\n",
            "400/400 - 1s - 2ms/step - accuracy: 0.9250 - loss: 0.2603 - val_accuracy: 0.9112 - val_loss: 0.3144\n",
            "Epoch 24/50\n",
            "400/400 - 1s - 1ms/step - accuracy: 0.9280 - loss: 0.2526 - val_accuracy: 0.9141 - val_loss: 0.3051\n",
            "Epoch 25/50\n",
            "400/400 - 1s - 2ms/step - accuracy: 0.9279 - loss: 0.2458 - val_accuracy: 0.9147 - val_loss: 0.3011\n",
            "Epoch 26/50\n",
            "400/400 - 1s - 1ms/step - accuracy: 0.9297 - loss: 0.2391 - val_accuracy: 0.9172 - val_loss: 0.2927\n",
            "Epoch 27/50\n",
            "400/400 - 1s - 1ms/step - accuracy: 0.9316 - loss: 0.2324 - val_accuracy: 0.9159 - val_loss: 0.2896\n",
            "Epoch 28/50\n",
            "400/400 - 0s - 982us/step - accuracy: 0.9330 - loss: 0.2275 - val_accuracy: 0.9197 - val_loss: 0.2862\n",
            "Epoch 29/50\n",
            "400/400 - 1s - 1ms/step - accuracy: 0.9348 - loss: 0.2213 - val_accuracy: 0.9178 - val_loss: 0.2847\n",
            "Epoch 30/50\n",
            "400/400 - 1s - 2ms/step - accuracy: 0.9365 - loss: 0.2166 - val_accuracy: 0.9212 - val_loss: 0.2760\n",
            "Epoch 31/50\n",
            "400/400 - 1s - 3ms/step - accuracy: 0.9373 - loss: 0.2103 - val_accuracy: 0.9156 - val_loss: 0.2786\n",
            "Epoch 32/50\n",
            "400/400 - 1s - 2ms/step - accuracy: 0.9391 - loss: 0.2076 - val_accuracy: 0.9200 - val_loss: 0.2710\n",
            "Epoch 33/50\n",
            "400/400 - 0s - 918us/step - accuracy: 0.9397 - loss: 0.2023 - val_accuracy: 0.9222 - val_loss: 0.2672\n",
            "Epoch 34/50\n",
            "400/400 - 1s - 2ms/step - accuracy: 0.9427 - loss: 0.1975 - val_accuracy: 0.9225 - val_loss: 0.2640\n",
            "Epoch 35/50\n",
            "400/400 - 1s - 2ms/step - accuracy: 0.9428 - loss: 0.1951 - val_accuracy: 0.9206 - val_loss: 0.2622\n",
            "Epoch 36/50\n",
            "400/400 - 1s - 1ms/step - accuracy: 0.9427 - loss: 0.1902 - val_accuracy: 0.9172 - val_loss: 0.2640\n",
            "Epoch 37/50\n",
            "400/400 - 1s - 2ms/step - accuracy: 0.9448 - loss: 0.1868 - val_accuracy: 0.9197 - val_loss: 0.2590\n",
            "Epoch 38/50\n",
            "400/400 - 1s - 2ms/step - accuracy: 0.9460 - loss: 0.1834 - val_accuracy: 0.9219 - val_loss: 0.2530\n",
            "Epoch 39/50\n",
            "400/400 - 1s - 2ms/step - accuracy: 0.9463 - loss: 0.1799 - val_accuracy: 0.9244 - val_loss: 0.2543\n",
            "Epoch 40/50\n",
            "400/400 - 1s - 2ms/step - accuracy: 0.9465 - loss: 0.1762 - val_accuracy: 0.9212 - val_loss: 0.2526\n",
            "Epoch 41/50\n",
            "400/400 - 1s - 2ms/step - accuracy: 0.9482 - loss: 0.1736 - val_accuracy: 0.9250 - val_loss: 0.2506\n",
            "Epoch 42/50\n",
            "400/400 - 1s - 2ms/step - accuracy: 0.9490 - loss: 0.1703 - val_accuracy: 0.9262 - val_loss: 0.2464\n",
            "Epoch 43/50\n",
            "400/400 - 1s - 2ms/step - accuracy: 0.9470 - loss: 0.1679 - val_accuracy: 0.9212 - val_loss: 0.2497\n",
            "Epoch 44/50\n",
            "400/400 - 1s - 2ms/step - accuracy: 0.9488 - loss: 0.1652 - val_accuracy: 0.9237 - val_loss: 0.2439\n",
            "Epoch 45/50\n",
            "400/400 - 0s - 1ms/step - accuracy: 0.9503 - loss: 0.1625 - val_accuracy: 0.9231 - val_loss: 0.2426\n",
            "Epoch 46/50\n",
            "400/400 - 1s - 1ms/step - accuracy: 0.9503 - loss: 0.1603 - val_accuracy: 0.9247 - val_loss: 0.2431\n",
            "Epoch 47/50\n",
            "400/400 - 1s - 2ms/step - accuracy: 0.9520 - loss: 0.1574 - val_accuracy: 0.9262 - val_loss: 0.2385\n",
            "Epoch 48/50\n",
            "400/400 - 1s - 2ms/step - accuracy: 0.9527 - loss: 0.1548 - val_accuracy: 0.9234 - val_loss: 0.2397\n",
            "Epoch 49/50\n",
            "400/400 - 1s - 2ms/step - accuracy: 0.9535 - loss: 0.1535 - val_accuracy: 0.9275 - val_loss: 0.2363\n",
            "Epoch 50/50\n",
            "400/400 - 1s - 2ms/step - accuracy: 0.9556 - loss: 0.1505 - val_accuracy: 0.9256 - val_loss: 0.2359\n"
          ]
        }
      ]
    },
    {
      "cell_type": "markdown",
      "source": [
        "**After training the model with epochs of 50, we got the validation accuracy of 92% at the epoch of 38 itself and loss of 23%.**"
      ],
      "metadata": {
        "id": "Rr6tR2OjBlCk"
      }
    },
    {
      "cell_type": "code",
      "source": [
        "test_loss, test_accuracy = model.evaluate(x_test, y_test)\n",
        "print(f'Test Accuracy: {test_accuracy}')"
      ],
      "metadata": {
        "colab": {
          "base_uri": "https://localhost:8080/"
        },
        "id": "YYYN-w9A8_ln",
        "outputId": "f9c22bc0-1f13-42fc-f65b-61c98c0dce69"
      },
      "execution_count": 17,
      "outputs": [
        {
          "output_type": "stream",
          "name": "stdout",
          "text": [
            "\u001b[1m125/125\u001b[0m \u001b[32m━━━━━━━━━━━━━━━━━━━━\u001b[0m\u001b[37m\u001b[0m \u001b[1m0s\u001b[0m 701us/step - accuracy: 0.9370 - loss: 0.2102\n",
            "Test Accuracy: 0.9352499842643738\n"
          ]
        }
      ]
    },
    {
      "cell_type": "markdown",
      "source": [
        "**Here we can see that the test accuracy is 93% and loss of 21%.**"
      ],
      "metadata": {
        "id": "hdK6LQVeCAFK"
      }
    },
    {
      "cell_type": "code",
      "source": [
        "!pip install keras-tuner"
      ],
      "metadata": {
        "colab": {
          "base_uri": "https://localhost:8080/"
        },
        "id": "Nu4DnDz-9E9v",
        "outputId": "2e947484-6adf-4036-f550-28ba8df61545"
      },
      "execution_count": 18,
      "outputs": [
        {
          "output_type": "stream",
          "name": "stdout",
          "text": [
            "Requirement already satisfied: keras-tuner in /usr/local/lib/python3.10/dist-packages (1.4.7)\n",
            "Requirement already satisfied: keras in /usr/local/lib/python3.10/dist-packages (from keras-tuner) (3.4.1)\n",
            "Requirement already satisfied: packaging in /usr/local/lib/python3.10/dist-packages (from keras-tuner) (24.1)\n",
            "Requirement already satisfied: requests in /usr/local/lib/python3.10/dist-packages (from keras-tuner) (2.32.3)\n",
            "Requirement already satisfied: kt-legacy in /usr/local/lib/python3.10/dist-packages (from keras-tuner) (1.0.5)\n",
            "Requirement already satisfied: absl-py in /usr/local/lib/python3.10/dist-packages (from keras->keras-tuner) (1.4.0)\n",
            "Requirement already satisfied: numpy in /usr/local/lib/python3.10/dist-packages (from keras->keras-tuner) (1.26.4)\n",
            "Requirement already satisfied: rich in /usr/local/lib/python3.10/dist-packages (from keras->keras-tuner) (13.9.1)\n",
            "Requirement already satisfied: namex in /usr/local/lib/python3.10/dist-packages (from keras->keras-tuner) (0.0.8)\n",
            "Requirement already satisfied: h5py in /usr/local/lib/python3.10/dist-packages (from keras->keras-tuner) (3.11.0)\n",
            "Requirement already satisfied: optree in /usr/local/lib/python3.10/dist-packages (from keras->keras-tuner) (0.13.0)\n",
            "Requirement already satisfied: ml-dtypes in /usr/local/lib/python3.10/dist-packages (from keras->keras-tuner) (0.4.1)\n",
            "Requirement already satisfied: charset-normalizer<4,>=2 in /usr/local/lib/python3.10/dist-packages (from requests->keras-tuner) (3.3.2)\n",
            "Requirement already satisfied: idna<4,>=2.5 in /usr/local/lib/python3.10/dist-packages (from requests->keras-tuner) (3.10)\n",
            "Requirement already satisfied: urllib3<3,>=1.21.1 in /usr/local/lib/python3.10/dist-packages (from requests->keras-tuner) (2.2.3)\n",
            "Requirement already satisfied: certifi>=2017.4.17 in /usr/local/lib/python3.10/dist-packages (from requests->keras-tuner) (2024.8.30)\n",
            "Requirement already satisfied: typing-extensions>=4.5.0 in /usr/local/lib/python3.10/dist-packages (from optree->keras->keras-tuner) (4.12.2)\n",
            "Requirement already satisfied: markdown-it-py>=2.2.0 in /usr/local/lib/python3.10/dist-packages (from rich->keras->keras-tuner) (3.0.0)\n",
            "Requirement already satisfied: pygments<3.0.0,>=2.13.0 in /usr/local/lib/python3.10/dist-packages (from rich->keras->keras-tuner) (2.18.0)\n",
            "Requirement already satisfied: mdurl~=0.1 in /usr/local/lib/python3.10/dist-packages (from markdown-it-py>=2.2.0->rich->keras->keras-tuner) (0.1.2)\n"
          ]
        }
      ]
    },
    {
      "cell_type": "markdown",
      "source": [
        "#Hyperparameter tuning"
      ],
      "metadata": {
        "id": "_mzrvVwXCOXb"
      }
    },
    {
      "cell_type": "code",
      "source": [
        "import tensorflow as tf\n",
        "from kerastuner import HyperModel"
      ],
      "metadata": {
        "colab": {
          "base_uri": "https://localhost:8080/"
        },
        "id": "TBBnDBBO-aRb",
        "outputId": "605bb6c3-6d04-4b8f-c2d9-d34c737ff577"
      },
      "execution_count": 19,
      "outputs": [
        {
          "output_type": "stream",
          "name": "stderr",
          "text": [
            "<ipython-input-19-0c914e7d4195>:2: DeprecationWarning: `import kerastuner` is deprecated, please use `import keras_tuner`.\n",
            "  from kerastuner import HyperModel\n"
          ]
        }
      ]
    },
    {
      "cell_type": "code",
      "source": [
        "def build_model(hp):\n",
        "    model = tf.keras.Sequential()\n",
        "\n",
        "    # Input layer\n",
        "    model.add(layers.Input(shape=(x_train.shape[1],)))\n",
        "\n",
        "    # Tuning the number of hidden layers and neurons per layer\n",
        "    for i in range(hp.Int('num_layers', 1, 3)):\n",
        "        model.add(layers.Dense(units=hp.Int('units_' + str(i), min_value=32, max_value=128, step=32),\n",
        "                               activation=hp.Choice('activation_' + str(i), values=['relu', 'tanh'])))\n",
        "\n",
        "    # Output layer (softmax for multiclass classification)\n",
        "    model.add(layers.Dense(26, activation='softmax'))\n",
        "\n",
        "    # Tuning the learning rate for the optimizer\n",
        "    model.compile(optimizer=tf.keras.optimizers.Adam(learning_rate=hp.Choice('learning_rate', [1e-2, 1e-3, 1e-4])),\n",
        "                  loss='sparse_categorical_crossentropy',\n",
        "                  metrics=['accuracy'])\n",
        "    return model"
      ],
      "metadata": {
        "id": "CAo2Xdjg-uep"
      },
      "execution_count": 20,
      "outputs": []
    },
    {
      "cell_type": "code",
      "source": [
        "from kerastuner.tuners import RandomSearch\n",
        "\n",
        "tuner = RandomSearch(\n",
        "    build_model,\n",
        "    objective='val_accuracy',\n",
        "    max_trials=10,\n",
        "    executions_per_trial=2,\n",
        "    directory='hyperparameter_tuning',\n",
        "    project_name='alphabet_classification'\n",
        ")\n"
      ],
      "metadata": {
        "colab": {
          "base_uri": "https://localhost:8080/"
        },
        "id": "a4n87mey_BXn",
        "outputId": "00b40f96-b349-4530-b8cf-0946f9db313a"
      },
      "execution_count": 21,
      "outputs": [
        {
          "output_type": "stream",
          "name": "stdout",
          "text": [
            "Reloading Tuner from hyperparameter_tuning/alphabet_classification/tuner0.json\n"
          ]
        }
      ]
    },
    {
      "cell_type": "code",
      "source": [
        "tuner.search(x_train, y_train, epochs=10, validation_split=0.2)"
      ],
      "metadata": {
        "id": "1soCsKFi_9B9"
      },
      "execution_count": 22,
      "outputs": []
    },
    {
      "cell_type": "code",
      "source": [
        "best_hps = tuner.get_best_hyperparameters(num_trials=1)[0]\n",
        "print(f'Best number of layers: {best_hps.get(\"num_layers\")}')\n",
        "print(f'Best number of neurons in each layer: {[best_hps.get(\"units_\" + str(i)) for i in range(best_hps.get(\"num_layers\"))]}')\n",
        "print(f'Best learning rate: {best_hps.get(\"learning_rate\")}')"
      ],
      "metadata": {
        "colab": {
          "base_uri": "https://localhost:8080/"
        },
        "id": "g0cayOFuAemr",
        "outputId": "061632b7-a3ec-4ac5-8ef2-aa7a2a7480db"
      },
      "execution_count": 23,
      "outputs": [
        {
          "output_type": "stream",
          "name": "stdout",
          "text": [
            "Best number of layers: 2\n",
            "Best number of neurons in each layer: [64, 128]\n",
            "Best learning rate: 0.001\n"
          ]
        }
      ]
    },
    {
      "cell_type": "code",
      "source": [
        "best_model = tuner.hypermodel.build(best_hps)\n",
        "best_model.fit(x_train, y_train, epochs=10, validation_split=0.2)"
      ],
      "metadata": {
        "colab": {
          "base_uri": "https://localhost:8080/"
        },
        "id": "qt-QagLnAi4v",
        "outputId": "a62cdf16-adb4-4430-db5d-0f35a8348332"
      },
      "execution_count": 25,
      "outputs": [
        {
          "output_type": "stream",
          "name": "stdout",
          "text": [
            "Epoch 1/10\n",
            "\u001b[1m400/400\u001b[0m \u001b[32m━━━━━━━━━━━━━━━━━━━━\u001b[0m\u001b[37m\u001b[0m \u001b[1m2s\u001b[0m 2ms/step - accuracy: 0.4345 - loss: 2.1390 - val_accuracy: 0.7406 - val_loss: 0.9583\n",
            "Epoch 2/10\n",
            "\u001b[1m400/400\u001b[0m \u001b[32m━━━━━━━━━━━━━━━━━━━━\u001b[0m\u001b[37m\u001b[0m \u001b[1m1s\u001b[0m 1ms/step - accuracy: 0.7683 - loss: 0.8411 - val_accuracy: 0.7994 - val_loss: 0.7048\n",
            "Epoch 3/10\n",
            "\u001b[1m400/400\u001b[0m \u001b[32m━━━━━━━━━━━━━━━━━━━━\u001b[0m\u001b[37m\u001b[0m \u001b[1m1s\u001b[0m 1ms/step - accuracy: 0.8246 - loss: 0.6234 - val_accuracy: 0.8428 - val_loss: 0.5577\n",
            "Epoch 4/10\n",
            "\u001b[1m400/400\u001b[0m \u001b[32m━━━━━━━━━━━━━━━━━━━━\u001b[0m\u001b[37m\u001b[0m \u001b[1m1s\u001b[0m 2ms/step - accuracy: 0.8550 - loss: 0.5112 - val_accuracy: 0.8703 - val_loss: 0.4703\n",
            "Epoch 5/10\n",
            "\u001b[1m400/400\u001b[0m \u001b[32m━━━━━━━━━━━━━━━━━━━━\u001b[0m\u001b[37m\u001b[0m \u001b[1m1s\u001b[0m 1ms/step - accuracy: 0.8837 - loss: 0.4107 - val_accuracy: 0.8775 - val_loss: 0.4073\n",
            "Epoch 6/10\n",
            "\u001b[1m400/400\u001b[0m \u001b[32m━━━━━━━━━━━━━━━━━━━━\u001b[0m\u001b[37m\u001b[0m \u001b[1m1s\u001b[0m 1ms/step - accuracy: 0.9003 - loss: 0.3449 - val_accuracy: 0.8919 - val_loss: 0.3557\n",
            "Epoch 7/10\n",
            "\u001b[1m400/400\u001b[0m \u001b[32m━━━━━━━━━━━━━━━━━━━━\u001b[0m\u001b[37m\u001b[0m \u001b[1m1s\u001b[0m 1ms/step - accuracy: 0.9125 - loss: 0.3097 - val_accuracy: 0.8969 - val_loss: 0.3328\n",
            "Epoch 8/10\n",
            "\u001b[1m400/400\u001b[0m \u001b[32m━━━━━━━━━━━━━━━━━━━━\u001b[0m\u001b[37m\u001b[0m \u001b[1m1s\u001b[0m 1ms/step - accuracy: 0.9199 - loss: 0.2790 - val_accuracy: 0.9144 - val_loss: 0.2937\n",
            "Epoch 9/10\n",
            "\u001b[1m400/400\u001b[0m \u001b[32m━━━━━━━━━━━━━━━━━━━━\u001b[0m\u001b[37m\u001b[0m \u001b[1m1s\u001b[0m 1ms/step - accuracy: 0.9276 - loss: 0.2464 - val_accuracy: 0.9141 - val_loss: 0.2795\n",
            "Epoch 10/10\n",
            "\u001b[1m400/400\u001b[0m \u001b[32m━━━━━━━━━━━━━━━━━━━━\u001b[0m\u001b[37m\u001b[0m \u001b[1m1s\u001b[0m 1ms/step - accuracy: 0.9349 - loss: 0.2186 - val_accuracy: 0.9166 - val_loss: 0.2643\n"
          ]
        },
        {
          "output_type": "execute_result",
          "data": {
            "text/plain": [
              "<keras.src.callbacks.history.History at 0x7ca0a31313f0>"
            ]
          },
          "metadata": {},
          "execution_count": 25
        }
      ]
    },
    {
      "cell_type": "code",
      "source": [
        "test_loss, test_accuracy = best_model.evaluate(x_test, y_test)\n",
        "print(f'Test Accuracy after hyperparameter tuning: {test_accuracy}')"
      ],
      "metadata": {
        "colab": {
          "base_uri": "https://localhost:8080/"
        },
        "id": "C8fSvVy0AqxN",
        "outputId": "e1c69268-21e1-49f7-aa01-80d530d3c1ae"
      },
      "execution_count": 26,
      "outputs": [
        {
          "output_type": "stream",
          "name": "stdout",
          "text": [
            "\u001b[1m125/125\u001b[0m \u001b[32m━━━━━━━━━━━━━━━━━━━━\u001b[0m\u001b[37m\u001b[0m \u001b[1m0s\u001b[0m 726us/step - accuracy: 0.9251 - loss: 0.2360\n",
            "Test Accuracy after hyperparameter tuning: 0.9242500066757202\n"
          ]
        }
      ]
    },
    {
      "cell_type": "markdown",
      "source": [
        "**After adapting the gridsearch we got the accuracy of 92%.**"
      ],
      "metadata": {
        "id": "ewEDvuTWCWrG"
      }
    },
    {
      "cell_type": "markdown",
      "source": [
        "#Evaluation"
      ],
      "metadata": {
        "id": "DBYczKlkClIK"
      }
    },
    {
      "cell_type": "code",
      "source": [
        "y_pred = best_model.predict(x_test)\n",
        "y_pred_classes = y_pred.argmax(axis=1)"
      ],
      "metadata": {
        "colab": {
          "base_uri": "https://localhost:8080/"
        },
        "id": "VgrjQs7xAx8B",
        "outputId": "b0b76a47-5162-427b-ebf4-0451f7672505"
      },
      "execution_count": 27,
      "outputs": [
        {
          "output_type": "stream",
          "name": "stdout",
          "text": [
            "\u001b[1m125/125\u001b[0m \u001b[32m━━━━━━━━━━━━━━━━━━━━\u001b[0m\u001b[37m\u001b[0m \u001b[1m0s\u001b[0m 1ms/step\n"
          ]
        }
      ]
    },
    {
      "cell_type": "code",
      "source": [
        "from sklearn.metrics import classification_report\n",
        "\n",
        "report = classification_report(y_test, y_pred_classes, target_names=label_encoder.classes_)\n",
        "print(report)"
      ],
      "metadata": {
        "colab": {
          "base_uri": "https://localhost:8080/"
        },
        "id": "taM2MPr4A_26",
        "outputId": "e3b14983-8b16-4dbc-a5bb-f5dbbc4ddb89"
      },
      "execution_count": 28,
      "outputs": [
        {
          "output_type": "stream",
          "name": "stdout",
          "text": [
            "              precision    recall  f1-score   support\n",
            "\n",
            "           A       0.99      0.95      0.97       149\n",
            "           B       0.84      0.90      0.87       153\n",
            "           C       0.96      0.88      0.92       137\n",
            "           D       0.88      0.92      0.90       156\n",
            "           E       0.89      0.95      0.92       141\n",
            "           F       0.90      0.92      0.91       140\n",
            "           G       0.90      0.88      0.89       160\n",
            "           H       0.79      0.83      0.81       144\n",
            "           I       0.96      0.90      0.93       146\n",
            "           J       0.97      0.94      0.95       149\n",
            "           K       0.86      0.88      0.87       130\n",
            "           L       0.98      0.96      0.97       155\n",
            "           M       0.92      0.98      0.95       168\n",
            "           N       0.96      0.92      0.94       151\n",
            "           O       0.93      0.90      0.91       145\n",
            "           P       0.97      0.91      0.94       173\n",
            "           Q       0.98      0.96      0.97       166\n",
            "           R       0.86      0.78      0.82       160\n",
            "           S       0.90      0.98      0.94       171\n",
            "           T       0.93      0.94      0.94       163\n",
            "           U       0.96      0.95      0.96       183\n",
            "           V       0.90      0.96      0.93       158\n",
            "           W       0.95      0.97      0.96       148\n",
            "           X       0.94      0.97      0.96       154\n",
            "           Y       0.95      0.97      0.96       168\n",
            "           Z       0.97      0.89      0.93       132\n",
            "\n",
            "    accuracy                           0.92      4000\n",
            "   macro avg       0.92      0.92      0.92      4000\n",
            "weighted avg       0.93      0.92      0.92      4000\n",
            "\n"
          ]
        }
      ]
    },
    {
      "cell_type": "markdown",
      "source": [
        "**From this we can infer that overall accuracy is of 92%.**"
      ],
      "metadata": {
        "id": "xcA_ZP6fCper"
      }
    },
    {
      "cell_type": "markdown",
      "source": [
        "**Performance differences between the default model and tune model.**\n",
        "\n",
        "-> Hyperparameter tuning can significantly improve the performance of an artificial neural network by optimizing various components such as the number of neurons, hidden layers, learning rate, and activation functions.\n",
        "\n",
        "-> **Default Model:** Simpler, with decent performance but likely underfitting or overfitting some classes. Lacks fine-tuning for the dataset.\n",
        "\n",
        "-> **Tuned Model:** More complex, performs better due to its optimized structure, strikes a balance between precision and recall, and efficiently converges to a better solution."
      ],
      "metadata": {
        "id": "n9v17MQZDCIB"
      }
    }
  ]
}