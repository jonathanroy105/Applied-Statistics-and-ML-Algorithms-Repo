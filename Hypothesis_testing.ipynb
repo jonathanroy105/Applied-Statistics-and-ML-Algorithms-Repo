{
  "nbformat": 4,
  "nbformat_minor": 0,
  "metadata": {
    "colab": {
      "provenance": []
    },
    "kernelspec": {
      "name": "python3",
      "display_name": "Python 3"
    },
    "language_info": {
      "name": "python"
    }
  },
  "cells": [
    {
      "cell_type": "markdown",
      "source": [
        "**1.Hypothesis Statement**\n",
        "\n",
        "Null Hypothesis : The mean weekly operating cost is equal to the theoretical mean weekly operating cost.\n",
        "\n",
        "Alternative Hypothesis : The mean weekly operating cost is more than the theoretical mean weekly operating cost."
      ],
      "metadata": {
        "id": "xsGOn6SAC-Ia"
      }
    },
    {
      "cell_type": "markdown",
      "source": [
        "**2.Calculating the test statistics**"
      ],
      "metadata": {
        "id": "s4fBNdPQDpXf"
      }
    },
    {
      "cell_type": "code",
      "execution_count": 1,
      "metadata": {
        "id": "YpbErOkI-SZW"
      },
      "outputs": [],
      "source": [
        "sample_mean = 3050\n",
        "theoretical_mean = 1000 + 5 * 600\n",
        "sd = 5 * 25\n",
        "n = 25\n",
        "alpha = 0.05"
      ]
    },
    {
      "cell_type": "code",
      "source": [
        "import scipy.stats as stats\n",
        "import math\n",
        "\n",
        "t_statistic = (sample_mean - theoretical_mean)/(sd/math.sqrt(n))\n",
        "print(t_statistic)"
      ],
      "metadata": {
        "colab": {
          "base_uri": "https://localhost:8080/"
        },
        "id": "Ryi3a998Ea3E",
        "outputId": "dab48687-230a-4748-80db-a5b01128302e"
      },
      "execution_count": 2,
      "outputs": [
        {
          "output_type": "stream",
          "name": "stdout",
          "text": [
            "-38.0\n"
          ]
        }
      ]
    },
    {
      "cell_type": "markdown",
      "source": [
        "**3.Determining the critical value**"
      ],
      "metadata": {
        "id": "izOvgv9PHxbE"
      }
    },
    {
      "cell_type": "code",
      "source": [
        "critical_value = stats.norm.ppf(1-alpha)\n",
        "print(critical_value)"
      ],
      "metadata": {
        "colab": {
          "base_uri": "https://localhost:8080/"
        },
        "id": "5w9jpOBYF_rQ",
        "outputId": "21e64ab0-e00d-45a6-d019-6070557aad30"
      },
      "execution_count": 3,
      "outputs": [
        {
          "output_type": "stream",
          "name": "stdout",
          "text": [
            "1.6448536269514722\n"
          ]
        }
      ]
    },
    {
      "cell_type": "markdown",
      "source": [
        "**4.Making a decision**"
      ],
      "metadata": {
        "id": "pHxbDU2VH6vt"
      }
    },
    {
      "cell_type": "code",
      "source": [
        "if t_statistic > critical_value:\n",
        "  print(\"Reject null hypothesis\")\n",
        "else:\n",
        "  print(\"Do not reject null hypothesis\")"
      ],
      "metadata": {
        "colab": {
          "base_uri": "https://localhost:8080/"
        },
        "id": "rDkUOdWZGUZZ",
        "outputId": "3b299633-02dd-4729-bef9-860dd56bb02e"
      },
      "execution_count": 4,
      "outputs": [
        {
          "output_type": "stream",
          "name": "stdout",
          "text": [
            "Do not reject null hypothesis\n"
          ]
        }
      ]
    },
    {
      "cell_type": "markdown",
      "source": [
        "Since test statistic is much less than the critical value we do not reject the null hypothesis."
      ],
      "metadata": {
        "id": "wrrIkgdFItft"
      }
    },
    {
      "cell_type": "markdown",
      "source": [
        "**5.Conclusion**\n",
        "\n",
        "Based on the decision, there is no strong evidence to support the restaurant owners' claim that the weekly operating costs are higher than the model suggests"
      ],
      "metadata": {
        "id": "sxzyc42lIEN2"
      }
    }
  ]
}